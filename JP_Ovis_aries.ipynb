{
 "cells": [
  {
   "cell_type": "markdown",
   "metadata": {},
   "source": [
    "# Ovce domácí (Ovis aires)"
   ]
  },
  {
   "cell_type": "code",
   "execution_count": 1,
   "metadata": {
    "collapsed": false
   },
   "outputs": [
    {
     "name": "stdout",
     "output_type": "stream",
     "text": [
      "Ovce domácí (Ovis aries) je prastarým průvodcem člověka, tento domestikovaný přežvýkavec vystupuje v mytologických bájích, je významným biblickým symbolem, dodnes se vyskytuje v různých rčeních a příslovích. Zřejmě znáte beránka božího, před spaním počítáte ovečky, možná jste černou ovcí své rodiny, nebo jste se narodili v tomto znamení čínského horoskopu, po večerech sledujete ovečku Shaun the Sheep či Černé ovce. Dále také důležitým zdrojem vlny (včetně dnes moderního merina), masa a mléka. Z ovčích rohů se vyrábějí střenky nožů, z ovčích střívek výplety do tenisových raket, z ovčího loje se vyráběly svíčky a ovčí vosk lanolin se užívá v kosmetice či v krémech na boty. Dnešní ovce domácí byla domestikována několikrát nezávisle na sobě a proto jsou si jednotlivá plemena nepříbuzná, jejich předci byli muflon evropský (Ovis orientalis musimon), muflon asijský  (Ovis orientalis orientalis), ovce kruhorohá (Ovis orientalis arkal), ovce stepní (Ovis vignei), ovce středoasijská (Ovis ammon). Pro biology se staly ovce modelovým organismem a jedním z prvních klonovaných zvířat. Ovce Dolly žila mezi lety 1996  a 2003 na Roslin institutu v Edinburghu. Ovce se dožívají i 12 let, ale Dolly trpící po 5 letech artritidou podlehla rakovině plic po 6,5 letech života, a to zřejmě také kvůli ustájení v budově, na což ovce nejsou zvyklé. Do roku 2016 bylo naklonováno 13 ovcí ze stejné linie jako Dolly. Nejsou známé žádné průkazné neduhy způsobené klonováním. 
 \n"
     ]
    }
   ],
   "source": [
    "print (\"Ovce domácí (Ovis aries) je prastarým průvodcem člověka, tento domestikovaný přežvýkavec vystupuje v mytologických bájích, je významným biblickým symbolem, dodnes se vyskytuje v různých rčeních a příslovích. Zřejmě znáte beránka božího, před spaním počítáte ovečky, možná jste černou ovcí své rodiny, nebo jste se narodili v tomto znamení čínského horoskopu, po večerech sledujete ovečku Shaun the Sheep či Černé ovce. Dále také důležitým zdrojem vlny (včetně dnes moderního merina), masa a mléka. Z ovčích rohů se vyrábějí střenky nožů, z ovčích střívek výplety do tenisových raket, z ovčího loje se vyráběly svíčky a ovčí vosk lanolin se užívá v kosmetice či v krémech na boty. Dnešní ovce domácí byla domestikována několikrát nezávisle na sobě a proto jsou si jednotlivá plemena nepříbuzná, jejich předci byli muflon evropský (Ovis orientalis musimon), muflon asijský  (Ovis orientalis orientalis), ovce kruhorohá (Ovis orientalis arkal), ovce stepní (Ovis vignei), ovce středoasijská (Ovis ammon). Pro biology se staly ovce modelovým organismem a jedním z prvních klonovaných zvířat. Ovce Dolly žila mezi lety 1996  a 2003 na Roslin institutu v Edinburghu. Ovce se dožívají i 12 let, ale Dolly trpící po 5 letech artritidou podlehla rakovině plic po 6,5 letech života, a to zřejmě také kvůli ustájení v budově, na což ovce nejsou zvyklé. Do roku 2016 bylo naklonováno 13 ovcí ze stejné linie jako Dolly. Nejsou známé žádné průkazné neduhy způsobené klonováním. 
\")"
   ]
  },
  {
   "cell_type": "code",
   "execution_count": null,
   "metadata": {
    "collapsed": true
   },
   "outputs": [],
   "source": []
  }
 ],
 "metadata": {
  "kernelspec": {
   "display_name": "Python 3",
   "language": "python",
   "name": "python3"
  },
  "language_info": {
   "codemirror_mode": {
    "name": "ipython",
    "version": 3
   },
   "file_extension": ".py",
   "mimetype": "text/x-python",
   "name": "python",
   "nbconvert_exporter": "python",
   "pygments_lexer": "ipython3",
   "version": "3.5.2"
  }
 },
 "nbformat": 4,
 "nbformat_minor": 1
}
